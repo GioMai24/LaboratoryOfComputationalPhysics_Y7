{
 "cells": [
  {
   "cell_type": "markdown",
   "metadata": {},
   "source": [
    "# OSEMN Exercises"
   ]
  },
  {
   "cell_type": "code",
   "execution_count": 127,
   "metadata": {},
   "outputs": [],
   "source": [
    "%matplotlib inline\n",
    "import pandas as pd\n",
    "import numpy as np\n",
    "import random as rd\n",
    "import re\n",
    "import json"
   ]
  },
  {
   "cell_type": "markdown",
   "metadata": {},
   "source": [
    "1\\. Create a random list of number and then save it to a text file named \"simple_data.txt\""
   ]
  },
  {
   "cell_type": "code",
   "execution_count": 10,
   "metadata": {},
   "outputs": [
    {
     "name": "stdout",
     "output_type": "stream",
     "text": [
      "[62, 97, 62, 43, 46, 55, 16, 48, 53, 78, 75, 46, 15, 20, 91, 36, 75, 90, 5, 64, 33, 38, 33, 53, 85, 66, 3, 49, 58, 12, 1, 56, 42, 64, 72, 47, 24, 52, 86, 40]\n"
     ]
    }
   ],
   "source": [
    "rng = np.random.default_rng()\n",
    "data = rng.integers(0, 100, 40).tolist()\n",
    "print(data)\n",
    "with open('simple_data.txt', 'w') as simple:\n",
    "    print(data, file=simple)"
   ]
  },
  {
   "cell_type": "markdown",
   "metadata": {},
   "source": [
    "2\\. Create a random matrix of 5x5 and then save it to a text file named \"data.txt\""
   ]
  },
  {
   "cell_type": "code",
   "execution_count": 57,
   "metadata": {},
   "outputs": [
    {
     "name": "stdout",
     "output_type": "stream",
     "text": [
      "[[65 70 41 31 10]\n",
      " [ 8 86 41  6 92]\n",
      " [56 91 34 53 11]\n",
      " [32 54 49  3 63]\n",
      " [95 43 74 56 48]]\n"
     ]
    }
   ],
   "source": [
    "matrix = rng.integers(0,100,(5,5))\n",
    "print(matrix)\n",
    "# with open('data.txt', 'w'): pass # Create the empty file, useful to erase any previous attempt at doing some exercise\n",
    "    \n",
    "with open('data.txt', 'w') as datatext:\n",
    "    print(matrix, file=datatext)"
   ]
  },
  {
   "cell_type": "markdown",
   "metadata": {},
   "source": [
    "3\\. Load the saved txt file of point 2 and convert it to a csv file (by hand)"
   ]
  },
  {
   "cell_type": "code",
   "execution_count": 58,
   "metadata": {},
   "outputs": [],
   "source": [
    "with open('data.txt', 'r+') as datatext:\n",
    "    wa = re.sub('[\\\\[\\\\],]', '', datatext.read())\n",
    "    datatext.seek(0)\n",
    "    datatext.write(wa)\n",
    "    datatext.truncate()  # Write overwrites on cursor position, there will be underflown characters in the stream.\n",
    "# This command erase truncates at cursos position, "
   ]
  },
  {
   "cell_type": "markdown",
   "metadata": {},
   "source": [
    "4\\. load the binary file named *credit_card.dat* and convert the data into the real credit-card number.\n",
    "Each line correspond to a credit card number.\n",
    "Each character is composed by 6 bit (even the space) and the last 4 bit are just a padding\n",
    "\n",
    "**hint**: use the `chr()` function to convert a number to a char"
   ]
  },
  {
   "cell_type": "code",
   "execution_count": 158,
   "metadata": {},
   "outputs": [
    {
     "name": "stdout",
     "output_type": "stream",
     "text": [
      "['7', '6', '4', '8', ' ', '5', '6', '7', '3', ' ', '3', '7', '7', '5', ' ', '2', '2', '7', '1', '\\n']\n",
      "['3', '2', '5', '7', ' ', '8', '2', '4', '7', ' ', '3', '3', '5', '4', ' ', '2', '2', '6', '6', '\\n']\n",
      "['2', '7', '2', '2', ' ', '0', '0', '0', '1', ' ', '4', '0', '1', '1', ' ', '6', '6', '5', '2', '\\n']\n",
      "['0', '6', '6', '1', ' ', '3', '0', '6', '3', ' ', '3', '7', '4', '2', ' ', '3', '1', '5', '0', '\\n']\n",
      "['0', '4', '3', '2', ' ', '1', '6', '0', '8', ' ', '1', '4', '6', '2', ' ', '4', '7', '4', '2', '\\n']\n",
      "['5', '8', '2', '7', ' ', '2', '0', '2', '7', ' ', '8', '7', '8', '5', ' ', '7', '3', '0', '3', '\\n']\n",
      "['5', '7', '7', '4', ' ', '8', '5', '2', '8', ' ', '2', '0', '8', '7', ' ', '1', '1', '1', '7', '\\n']\n",
      "['8', '1', '4', '0', ' ', '1', '2', '1', '0', ' ', '6', '3', '5', '2', ' ', '2', '8', '4', '5', '\\n']\n",
      "['5', '7', '6', '4', ' ', '1', '1', '3', '3', ' ', '7', '3', '0', '1', ' ', '7', '1', '0', '0', '\\n']\n",
      "['6', '4', '5', '6', ' ', '1', '7', '3', '7', ' ', '4', '1', '2', '6', ' ', '6', '7', '2', '6', '\\n']\n",
      "['1', '2', '2', '8', ' ', '8', '6', '3', '1', ' ', '7', '3', '8', '2', ' ', '0', '0', '0', '0', '\\n']\n",
      "['7', '0', '5', '1', ' ', '0', '1', '6', '0', ' ', '5', '3', '7', '4', ' ', '3', '1', '6', '6', '\\n']\n",
      "['0', '6', '1', '8', ' ', '3', '5', '8', '7', ' ', '1', '6', '3', '0', ' ', '6', '3', '7', '6', '\\n']\n",
      "['1', '5', '4', '5', ' ', '5', '4', '5', '4', ' ', '7', '4', '4', '4', ' ', '5', '6', '3', '6', '\\n']\n",
      "['6', '7', '3', '5', ' ', '3', '1', '1', '6', ' ', '3', '2', '0', '2', ' ', '6', '8', '3', '4', '\\n']\n",
      "['7', '2', '8', '7', ' ', '5', '0', '1', '1', ' ', '1', '5', '4', '7', ' ', '8', '4', '1', '3', '\\n']\n",
      "['7', '0', '3', '3', ' ', '2', '6', '0', '7', ' ', '3', '3', '2', '8', ' ', '4', '2', '0', '0', '\\n']\n",
      "['2', '5', '6', '8', ' ', '5', '2', '4', '4', ' ', '1', '8', '7', '4', ' ', '5', '0', '2', '4', '\\n']\n",
      "['1', '6', '8', '4', ' ', '2', '2', '5', '3', ' ', '7', '5', '7', '0', ' ', '7', '1', '1', '8', '\\n']\n",
      "['0', '6', '7', '2', ' ', '2', '5', '7', '6', ' ', '0', '5', '7', '5', ' ', '6', '6', '3', '1', '\\n']\n",
      "['6', '3', '3', '2', ' ', '8', '3', '5', '3', ' ', '8', '7', '8', '7', ' ', '1', '3', '4', '0', '\\n']\n",
      "['1', '8', '1', '3', ' ', '3', '3', '6', '1', ' ', '1', '1', '7', '5', ' ', '4', '2', '1', '1', '\\n']\n",
      "['2', '4', '7', '7', ' ', '6', '4', '5', '0', ' ', '8', '8', '4', '0', ' ', '2', '3', '6', '8', '\\n']\n",
      "['5', '5', '1', '2', ' ', '3', '5', '0', '5', ' ', '2', '5', '6', '3', ' ', '1', '3', '2', '6', '\\n']\n",
      "['3', '0', '8', '3', ' ', '7', '8', '8', '2', ' ', '0', '6', '2', '1', ' ', '0', '0', '2', '5', '\\n']\n",
      "['4', '5', '2', '1', ' ', '5', '1', '4', '8', ' ', '8', '0', '4', '5', ' ', '0', '3', '3', '4', '\\n']\n",
      "['7', '5', '6', '3', ' ', '3', '6', '5', '4', ' ', '8', '7', '1', '3', ' ', '5', '7', '8', '7', '\\n']\n",
      "['8', '3', '2', '4', ' ', '2', '6', '6', '4', ' ', '0', '4', '7', '6', ' ', '5', '5', '6', '1', '\\n']\n",
      "['0', '5', '6', '5', ' ', '2', '5', '0', '4', ' ', '7', '1', '6', '8', ' ', '3', '5', '1', '0', '\\n']\n",
      "['5', '1', '0', '7', ' ', '5', '5', '0', '7', ' ', '1', '7', '6', '7', ' ', '0', '7', '3', '8', '\\n']\n",
      "['2', '4', '6', '2', ' ', '1', '8', '2', '1', ' ', '2', '4', '4', '8', ' ', '1', '4', '4', '3', '\\n']\n",
      "['2', '7', '8', '8', ' ', '0', '6', '3', '8', ' ', '6', '8', '6', '1', ' ', '6', '5', '5', '4', '\\n']\n",
      "['5', '8', '5', '1', ' ', '5', '8', '7', '3', ' ', '5', '4', '7', '4', ' ', '0', '5', '4', '7', '\\n']\n",
      "['0', '6', '7', '0', ' ', '1', '0', '0', '4', ' ', '4', '0', '1', '3', ' ', '2', '6', '5', '5', '\\n']\n",
      "['5', '8', '7', '4', ' ', '5', '5', '0', '6', ' ', '3', '0', '4', '8', ' ', '0', '8', '0', '6', '\\n']\n",
      "['2', '8', '0', '5', ' ', '5', '4', '0', '1', ' ', '8', '4', '6', '2', ' ', '1', '2', '6', '0', '\\n']\n",
      "['5', '0', '8', '3', ' ', '8', '4', '0', '6', ' ', '6', '3', '1', '0', ' ', '1', '8', '6', '2', '\\n']\n",
      "['1', '0', '7', '6', ' ', '1', '4', '4', '5', ' ', '3', '0', '1', '3', ' ', '2', '2', '6', '6', '\\n']\n",
      "['8', '4', '4', '0', ' ', '4', '8', '0', '4', ' ', '4', '8', '4', '4', ' ', '5', '2', '7', '7', '\\n']\n",
      "['4', '7', '5', '8', ' ', '6', '1', '4', '1', ' ', '0', '6', '8', '6', ' ', '1', '3', '8', '7', '\\n']\n",
      "['7', '5', '8', '6', ' ', '0', '6', '7', '5', ' ', '0', '3', '1', '5', ' ', '2', '5', '6', '8', '\\n']\n",
      "['2', '5', '4', '4', ' ', '1', '2', '5', '8', ' ', '7', '4', '3', '2', ' ', '5', '1', '6', '5', '\\n']\n",
      "['3', '4', '7', '4', ' ', '5', '0', '2', '3', ' ', '4', '4', '3', '4', ' ', '5', '6', '2', '6', '\\n']\n",
      "['1', '4', '1', '0', ' ', '0', '2', '7', '0', ' ', '0', '4', '3', '4', ' ', '5', '0', '8', '6', '\\n']\n",
      "['7', '3', '1', '5', ' ', '4', '4', '4', '6', ' ', '1', '1', '0', '4', ' ', '4', '2', '1', '5', '\\n']\n",
      "['0', '2', '2', '4', ' ', '7', '7', '4', '2', ' ', '8', '3', '0', '0', ' ', '0', '2', '6', '6', '\\n']\n",
      "['0', '1', '7', '0', ' ', '2', '7', '0', '0', ' ', '3', '1', '4', '5', ' ', '0', '6', '4', '0', '\\n']\n",
      "['2', '0', '0', '6', ' ', '2', '4', '3', '7', ' ', '8', '0', '5', '4', ' ', '1', '6', '0', '0', '\\n']\n",
      "['8', '1', '4', '2', ' ', '4', '0', '5', '5', ' ', '1', '7', '7', '6', ' ', '0', '0', '2', '6', '\\n']\n",
      "['3', '0', '2', '6', ' ', '7', '3', '8', '0', ' ', '1', '2', '4', '1', ' ', '1', '0', '8', '4', '\\n']\n",
      "['\\n']\n"
     ]
    }
   ],
   "source": [
    "with open('credit_card.dat', 'rb') as cred:\n",
    "    lines = cred.readlines()\n",
    "    crco = [[chr(int(lines[i][j:j+6], 2)) for j in range(0, len(lines[i])-2, 6)] for i in range(len(lines))]\n",
    "    for i in range(len(crco)): print(crco[i])\n",
    "\n"
   ]
  },
  {
   "cell_type": "markdown",
   "metadata": {},
   "source": [
    "5\\. Load the file \"user_data.json\", filter the data by the \"CreditCardType\" field equals to \"American Express\". Than save the data a to CSV."
   ]
  },
  {
   "cell_type": "code",
   "execution_count": 154,
   "metadata": {},
   "outputs": [],
   "source": [
    "user = json.load(open('user_data.json'))\n",
    "expr = [i for i in user if i['CreditCardType'] == 'American Express']\n",
    "with open('USA_Expr.csv', 'w') as USA:\n",
    "    for i in expr:\n",
    "        "
   ]
  },
  {
   "cell_type": "markdown",
   "metadata": {},
   "source": [
    "6\\. Load the file from this url: [https://www.dropbox.com/s/7u3lm737ogbqsg8/mushrooms_categorized.csv?dl=1](https://www.dropbox.com/s/7u3lm737ogbqsg8/mushrooms_categorized.csv?dl=1) with Pandas. \n",
    "+ Explore the data (see the info of the data)\n",
    "+ Draw the istogram of the 'class' field. Decribe wath yuou see\n"
   ]
  },
  {
   "cell_type": "markdown",
   "metadata": {},
   "source": [
    "7\\. Load the remote file [https://www.dropbox.com/s/vkl89yce7xjdq4n/regression_generated.csv?dl=1](https://www.dropbox.com/s/vkl89yce7xjdq4n/regression_generated.csv?dl=1) with Pandas and plot a scatter plot all possible combination of the following fields:\n",
    "    \n",
    "  + features_1\n",
    "  + features_2\n",
    "  + features_3"
   ]
  },
  {
   "cell_type": "markdown",
   "metadata": {},
   "source": [
    "8\\. Load the same file of point 6, and convert the file to json with Pandas."
   ]
  }
 ],
 "metadata": {
  "kernelspec": {
   "display_name": "Python 3 (ipykernel)",
   "language": "python",
   "name": "python3"
  },
  "language_info": {
   "codemirror_mode": {
    "name": "ipython",
    "version": 3
   },
   "file_extension": ".py",
   "mimetype": "text/x-python",
   "name": "python",
   "nbconvert_exporter": "python",
   "pygments_lexer": "ipython3",
   "version": "3.12.7"
  }
 },
 "nbformat": 4,
 "nbformat_minor": 4
}
