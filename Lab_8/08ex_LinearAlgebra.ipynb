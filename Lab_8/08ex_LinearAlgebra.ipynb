{
 "cells": [
  {
   "cell_type": "code",
   "execution_count": 1,
   "metadata": {},
   "outputs": [],
   "source": [
    "import pandas as pd\n",
    "import matplotlib.pyplot as plt\n",
    "import numpy as np\n",
    "import scipy as sp"
   ]
  },
  {
   "cell_type": "markdown",
   "metadata": {},
   "source": [
    "1\\. **PCA on 3D dataset**\n",
    "\n",
    "* Generate a dataset with 3 features each with N entries (N being ${\\cal O}(1000)$). With $N(\\mu,\\sigma)$ the normali distribution with mean $\\mu$ and $\\sigma$  standard deviation, generate the 3 variables $x_{1,2,3}$ such that:\n",
    "    * $x_1$ is distributed as $N(0,1)$\n",
    "    * $x_2$ is distributed as $x_1+N(0,3)$\n",
    "    * $x_3$ is given by $2x_1+x_2$\n",
    "* Find the eigenvectors and eigenvalues of the covariance matrix of the dataset\n",
    "* Find the eigenvectors and eigenvalues using SVD. Check that the two procedures yield to same result\n",
    "* What percent of the total dataset's variability is explained by the principal components? Given how the dataset was constructed, do these make sense? Reduce the dimensionality of the system so that at least 99% of the total variability is retained.\n",
    "* Redefine the data in the basis yielded by the PCA procedure\n",
    "* Plot the data points in the original and the new coordiantes as a set of scatter plots. Your final figure should have 2 rows of 3 plots each, where the columns show the (0,1), (0,2) and (1,2) proejctions.\n"
   ]
  },
  {
   "cell_type": "code",
   "execution_count": 92,
   "metadata": {},
   "outputs": [
    {
     "name": "stdout",
     "output_type": "stream",
     "text": [
      "Covariance matrix:\n",
      " [[ 0.97601658  1.11938618  3.07141934]\n",
      " [ 1.11938618 10.52671777 12.76549013]\n",
      " [ 3.07141934 12.76549013 18.90832882]]\n",
      "\n",
      "Eigenvectors:\n",
      " [[-0.11356247 -0.81649658  0.56607146]\n",
      " [-0.57973064 -0.40824829 -0.70515652]\n",
      " [-0.80685559  0.40824829  0.4269864 ]] \n",
      "\n",
      "Eigenvalues: [ 2.85127040e+01 -1.46073226e-15  1.89835921e+00]\n"
     ]
    }
   ],
   "source": [
    "rng = np.random.default_rng()\n",
    "\n",
    "x_1 = rng.normal(loc=0, scale=1, size=1000)\n",
    "x_2 = x_1 + rng.normal(loc=0, scale=3, size=1000)\n",
    "x_3 = 2*x_1 + x_2\n",
    "\n",
    "Cov = np.cov(np.vstack((x_1,x_2,x_3)))\n",
    "print('Covariance matrix:\\n', Cov)\n",
    "evl, evc = sp.linalg.eig(Cov) \n",
    "print('\\nEigenvectors:\\n', evc, '\\n\\nEigenvalues:', evl.real)"
   ]
  },
  {
   "cell_type": "markdown",
   "metadata": {},
   "source": [
    "2\\. **PCA on a nD dataset**\n",
    "\n",
    "Start from the dataset you have genereted in the previous exercise and add uncorrelated random noise. Such noise should be represented by other 10 uncorrelated variables normal distributed, with standar deviation much smaller (say, a factor 50) than those used to generate the $x_1$ and $x_2$.\n",
    "\n",
    "Repeat the PCA procedure and compare the results with what you obtained before"
   ]
  },
  {
   "cell_type": "markdown",
   "metadata": {},
   "source": [
    "3 \\. **Looking at an oscillating spring** (optional)\n",
    "\n",
    "Imagine you have $n$ cameras looking at a spring oscillating along the $x$ axis. Each  camera record the motion of the spring looking at it along a given direction defined by the pair $(\\theta_i, \\phi_i)$, the angles in spherical coordinates. \n",
    "\n",
    "Start from the simulation of the records (say ${\\cal O}(1000)$) of the spring's motion along the x axis, assuming a little random noise affects the measurements along the $y$. Rotate such dataset to emulate the records of each camera.\n",
    "\n",
    "Perform a Principal Component Analysis on the thus obtained dataset, aiming at finding the only one coordinate that really matters.\n"
   ]
  },
  {
   "cell_type": "markdown",
   "metadata": {},
   "source": [
    "4\\. **PCA on the MAGIC dataset** (optional)\n",
    "\n",
    "Perform a PCA on the magic04.data dataset"
   ]
  },
  {
   "cell_type": "code",
   "execution_count": 3,
   "metadata": {},
   "outputs": [
    {
     "name": "stdout",
     "output_type": "stream",
     "text": [
      "--2025-01-06 16:10:40--  https://archive.ics.uci.edu/ml/machine-learning-databases/magic/magic04.data\n",
      "Risoluzione di archive.ics.uci.edu (archive.ics.uci.edu)... 128.195.10.252\n",
      "Connessione a archive.ics.uci.edu (archive.ics.uci.edu)|128.195.10.252|:443... connesso.\n",
      "Richiesta HTTP inviata, in attesa di risposta... 200 OK\n",
      "Lunghezza: non specificato\n",
      "Salvataggio in: ‘/home/teobaldo/data/magic04.data’\n",
      "\n",
      "magic04.data            [       <=>          ]   1,41M   892KB/s    in 1,6s    \n",
      "\n",
      "2025-01-06 16:10:43 (892 KB/s) - ‘/home/teobaldo/data/magic04.data’ salvato [1477391]\n",
      "\n",
      "--2025-01-06 16:10:43--  https://archive.ics.uci.edu/ml/machine-learning-databases/magic/magic04.names\n",
      "Risoluzione di archive.ics.uci.edu (archive.ics.uci.edu)... 128.195.10.252\n",
      "Connessione a archive.ics.uci.edu (archive.ics.uci.edu)|128.195.10.252|:443... connesso.\n",
      "Richiesta HTTP inviata, in attesa di risposta... 200 OK\n",
      "Lunghezza: non specificato\n",
      "Salvataggio in: ‘/home/teobaldo/data/magic04.names’\n",
      "\n",
      "magic04.names           [ <=>                ]   5,27K  --.-KB/s    in 0s      \n",
      "\n",
      "2025-01-06 16:10:44 (48,6 MB/s) - ‘/home/teobaldo/data/magic04.names’ salvato [5400]\n",
      "\n"
     ]
    }
   ],
   "source": [
    "# get the dataset and its description on the proper data directory\n",
    "!wget https://archive.ics.uci.edu/ml/machine-learning-databases/magic/magic04.data -P ~/data/\n",
    "!wget https://archive.ics.uci.edu/ml/machine-learning-databases/magic/magic04.names -P ~/data/ "
   ]
  }
 ],
 "metadata": {
  "kernelspec": {
   "display_name": "Python 3 (ipykernel)",
   "language": "python",
   "name": "python3"
  },
  "language_info": {
   "codemirror_mode": {
    "name": "ipython",
    "version": 3
   },
   "file_extension": ".py",
   "mimetype": "text/x-python",
   "name": "python",
   "nbconvert_exporter": "python",
   "pygments_lexer": "ipython3",
   "version": "3.12.7"
  }
 },
 "nbformat": 4,
 "nbformat_minor": 4
}
