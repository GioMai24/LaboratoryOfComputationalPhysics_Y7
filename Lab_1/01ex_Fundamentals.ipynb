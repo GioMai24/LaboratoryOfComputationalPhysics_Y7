{
 "cells": [
  {
   "cell_type": "code",
   "execution_count": 30,
   "metadata": {},
   "outputs": [],
   "source": [
    "import copy\n",
    "import math as mt"
   ]
  },
  {
   "cell_type": "markdown",
   "metadata": {},
   "source": [
    "0\\. Implement a function (whatever you want) and save it to a file (e.g. `function.py`). Import that file and use that function in this notebook.\n"
   ]
  },
  {
   "cell_type": "markdown",
   "metadata": {},
   "source": [
    "1\\. Write the following as a list comprehension"
   ]
  },
  {
   "cell_type": "code",
   "execution_count": 11,
   "metadata": {},
   "outputs": [
    {
     "name": "stdout",
     "output_type": "stream",
     "text": [
      "[(0, 0), (0, 1), (0, 2), (0, 3), (1, 0), (1, 1), (1, 2), (1, 3), (2, 0), (2, 1), (2, 2), (2, 3)]\n",
      "[(0, 0), (0, 1), (0, 2), (0, 3), (1, 0), (1, 1), (1, 2), (1, 3), (2, 0), (2, 1), (2, 2), (2, 3)]\n",
      "[0, 4, 16]\n",
      "[0, 4, 16]\n"
     ]
    }
   ],
   "source": [
    "# 1\n",
    "ans = []\n",
    "for i in range(3):\n",
    "    for j in range(4):\n",
    "        ans.append((i, j))\n",
    "print (ans)\n",
    "x = [(i,j) for i in range(3) for j in range(4)]\n",
    "print(x)\n",
    "\n",
    "# 2\n",
    "ans = map(lambda x: x*x, filter(lambda x: x%2 == 0, range(5)))\n",
    "print (list(ans))\n",
    "x = [x for x in map(lambda x: x*x, filter(lambda x: x%2 == 0, range(5)))]\n",
    "print(x)"
   ]
  },
  {
   "cell_type": "markdown",
   "metadata": {},
   "source": [
    "2\\. Convert the following function into a pure function with no global variables or side effects"
   ]
  },
  {
   "cell_type": "code",
   "execution_count": 15,
   "metadata": {},
   "outputs": [
    {
     "name": "stdout",
     "output_type": "stream",
     "text": [
      "[1, 2, 3, 0, 1, 2, 3, 4]\n",
      "[1, 2, 3]\n"
     ]
    }
   ],
   "source": [
    "x = 5\n",
    "def f(alist):\n",
    "    al = copy.copy(alist)\n",
    "    for i in range(x):\n",
    "         al.append(i)\n",
    "    return al\n",
    "\n",
    "alist = [1,2,3]\n",
    "ans = f(alist)\n",
    "print (ans)\n",
    "print (alist) # alist has been changed!"
   ]
  },
  {
   "cell_type": "markdown",
   "metadata": {},
   "source": [
    "3\\. Write a `decorator` hello that makes every wrapped function print “Hello!”, i.e. something like:\n",
    "\n",
    "```python\n",
    "@hello\n",
    "def square(x):\n",
    "    return x*x\n",
    "```\n",
    "\n"
   ]
  },
  {
   "cell_type": "code",
   "execution_count": 13,
   "metadata": {},
   "outputs": [
    {
     "name": "stdout",
     "output_type": "stream",
     "text": [
      "Hello!\n",
      "e\n"
     ]
    }
   ],
   "source": [
    "def hello(fun):\n",
    "    def warp():\n",
    "        print('Hello!')\n",
    "        fun()\n",
    "    return warp\n",
    "\n",
    "@hello\n",
    "def sameii(): \n",
    "    print('e')\n",
    "\n",
    "\n",
    "sameii()"
   ]
  },
  {
   "cell_type": "code",
   "execution_count": 14,
   "metadata": {},
   "outputs": [
    {
     "name": "stdout",
     "output_type": "stream",
     "text": [
      "Hello!\n",
      "e\n"
     ]
    }
   ],
   "source": [
    "sameii()"
   ]
  },
  {
   "cell_type": "markdown",
   "metadata": {},
   "source": [
    "4\\. Write the factorial function so that it a) does and b) does not use recursion."
   ]
  },
  {
   "cell_type": "code",
   "execution_count": 17,
   "metadata": {},
   "outputs": [
    {
     "data": {
      "text/plain": [
       "1"
      ]
     },
     "execution_count": 17,
     "metadata": {},
     "output_type": "execute_result"
    }
   ],
   "source": [
    "def factore(n):\n",
    "    if n == 0: return 1\n",
    "    else: return n*factore(n-1)\n",
    "\n",
    "\n",
    "def factonore(n):\n",
    "    res = 1\n",
    "    for i in range(1, n+1): res *= i        \n",
    "    return res\n",
    "\n",
    "factonore(0)"
   ]
  },
  {
   "cell_type": "markdown",
   "metadata": {},
   "source": [
    "5\\. Use HOFs (zip in particular) to compute the weight of a circle, a disk and a sphere, assuming different radii and different densities:\n",
    "\n",
    "```python\n",
    "densities = {\"Al\":[0.5,1,2],\"Fe\":[3,4,5],\"Pb\": [15,20,30]}\n",
    "radii = [1,2,3]\n",
    "```\n",
    "\n",
    "where the entries of the dictionary's values are the linear, superficial and volumetric densities of the materials respectively.\n",
    "\n",
    "In particular define a list of three lambda functions using a comprehension that computes the circumference, the area and the volume for a given radius.\n"
   ]
  },
  {
   "cell_type": "markdown",
   "metadata": {},
   "source": [
    "### Notes\n",
    "Probably not what the professor wants..."
   ]
  },
  {
   "cell_type": "code",
   "execution_count": 38,
   "metadata": {},
   "outputs": [
    {
     "ename": "TypeError",
     "evalue": "can't multiply sequence by non-int of type 'float'",
     "output_type": "error",
     "traceback": [
      "\u001b[0;31m---------------------------------------------------------------------------\u001b[0m",
      "\u001b[0;31mTypeError\u001b[0m                                 Traceback (most recent call last)",
      "Cell \u001b[0;32mIn[38], line 6\u001b[0m\n\u001b[1;32m      4\u001b[0m fun \u001b[38;5;241m=\u001b[39m [\u001b[38;5;28;01mlambda\u001b[39;00m r: \u001b[38;5;241m2\u001b[39m\u001b[38;5;241m*\u001b[39mmt\u001b[38;5;241m.\u001b[39mpi\u001b[38;5;241m*\u001b[39mr, \u001b[38;5;28;01mlambda\u001b[39;00m r: mt\u001b[38;5;241m.\u001b[39mpi\u001b[38;5;241m*\u001b[39mr\u001b[38;5;241m*\u001b[39m\u001b[38;5;241m*\u001b[39m\u001b[38;5;241m2\u001b[39m, \u001b[38;5;28;01mlambda\u001b[39;00m r: \u001b[38;5;241m4\u001b[39m\u001b[38;5;241m/\u001b[39m\u001b[38;5;241m3\u001b[39m\u001b[38;5;241m*\u001b[39mmt\u001b[38;5;241m.\u001b[39mpi\u001b[38;5;241m*\u001b[39mr\u001b[38;5;241m*\u001b[39m\u001b[38;5;241m*\u001b[39m\u001b[38;5;241m3\u001b[39m]\n\u001b[1;32m      5\u001b[0m \u001b[38;5;28;01mfor\u001b[39;00m i \u001b[38;5;129;01min\u001b[39;00m fun:\n\u001b[0;32m----> 6\u001b[0m     \u001b[38;5;28;01mfor\u001b[39;00m j \u001b[38;5;129;01min\u001b[39;00m \u001b[38;5;28mmap\u001b[39m(i, \u001b[38;5;28mzip\u001b[39m(densities, radii)): \u001b[38;5;28mprint\u001b[39m(j)\n",
      "Cell \u001b[0;32mIn[38], line 4\u001b[0m, in \u001b[0;36m<lambda>\u001b[0;34m(r)\u001b[0m\n\u001b[1;32m      1\u001b[0m densities \u001b[38;5;241m=\u001b[39m {\u001b[38;5;124m\"\u001b[39m\u001b[38;5;124mAl\u001b[39m\u001b[38;5;124m\"\u001b[39m:[\u001b[38;5;241m0.5\u001b[39m,\u001b[38;5;241m1\u001b[39m,\u001b[38;5;241m2\u001b[39m],\u001b[38;5;124m\"\u001b[39m\u001b[38;5;124mFe\u001b[39m\u001b[38;5;124m\"\u001b[39m:[\u001b[38;5;241m3\u001b[39m,\u001b[38;5;241m4\u001b[39m,\u001b[38;5;241m5\u001b[39m],\u001b[38;5;124m\"\u001b[39m\u001b[38;5;124mPb\u001b[39m\u001b[38;5;124m\"\u001b[39m: [\u001b[38;5;241m15\u001b[39m,\u001b[38;5;241m20\u001b[39m,\u001b[38;5;241m30\u001b[39m]}\n\u001b[1;32m      2\u001b[0m radii \u001b[38;5;241m=\u001b[39m [\u001b[38;5;241m1\u001b[39m,\u001b[38;5;241m2\u001b[39m,\u001b[38;5;241m3\u001b[39m]\n\u001b[0;32m----> 4\u001b[0m fun \u001b[38;5;241m=\u001b[39m [\u001b[38;5;28;01mlambda\u001b[39;00m r: \u001b[38;5;241m2\u001b[39m\u001b[38;5;241m*\u001b[39mmt\u001b[38;5;241m.\u001b[39mpi\u001b[38;5;241m*\u001b[39mr, \u001b[38;5;28;01mlambda\u001b[39;00m r: mt\u001b[38;5;241m.\u001b[39mpi\u001b[38;5;241m*\u001b[39mr\u001b[38;5;241m*\u001b[39m\u001b[38;5;241m*\u001b[39m\u001b[38;5;241m2\u001b[39m, \u001b[38;5;28;01mlambda\u001b[39;00m r: \u001b[38;5;241m4\u001b[39m\u001b[38;5;241m/\u001b[39m\u001b[38;5;241m3\u001b[39m\u001b[38;5;241m*\u001b[39mmt\u001b[38;5;241m.\u001b[39mpi\u001b[38;5;241m*\u001b[39mr\u001b[38;5;241m*\u001b[39m\u001b[38;5;241m*\u001b[39m\u001b[38;5;241m3\u001b[39m]\n\u001b[1;32m      5\u001b[0m \u001b[38;5;28;01mfor\u001b[39;00m i \u001b[38;5;129;01min\u001b[39;00m fun:\n\u001b[1;32m      6\u001b[0m     \u001b[38;5;28;01mfor\u001b[39;00m j \u001b[38;5;129;01min\u001b[39;00m \u001b[38;5;28mmap\u001b[39m(i, \u001b[38;5;28mzip\u001b[39m(densities, radii)): \u001b[38;5;28mprint\u001b[39m(j)\n",
      "\u001b[0;31mTypeError\u001b[0m: can't multiply sequence by non-int of type 'float'"
     ]
    }
   ],
   "source": []
  },
  {
   "cell_type": "markdown",
   "metadata": {},
   "source": [
    "6\\. Edit the class defintion to add an instance attribute of is_hungry = True to the Dog class. Then add a method called eat() which changes the value of is_hungry to False when called. Figure out the best way to feed each dog and then output “My dogs are hungry.” if all are hungry or “My dogs are not hungry.” if all are not hungry. The final output should look like this:\n",
    "\n",
    "`I have 3 dogs. \n",
    "Tom is 6. \n",
    "Fletcher is 7. \n",
    "Larry is 9. \n",
    "And they're all mammals, of course. \n",
    "My dogs are not hungry.\n",
    "`\n",
    "\n",
    "```python\n",
    "# Parent class\n",
    "class Dog:\n",
    "\n",
    "    # Class attribute\n",
    "    species = 'mammal'\n",
    "\n",
    "    # Initializer / Instance attributes\n",
    "    def __init__(self, name, age):\n",
    "        self.name = name\n",
    "        self.age = age\n",
    "\n",
    "    # instance method\n",
    "    def description(self):\n",
    "        return \"{} is {} years old\".format(self.name, self.age)\n",
    "\n",
    "    # instance method\n",
    "    def speak(self, sound):\n",
    "        return \"{} says {}\".format(self.name, sound)\n",
    "\n",
    "# Child class (inherits from Dog class)\n",
    "class RussellTerrier(Dog):\n",
    "    def run(self, speed):\n",
    "        return \"{} runs {}\".format(self.name, speed)\n",
    "\n",
    "# Child class (inherits from Dog class)\n",
    "class Bulldog(Dog):\n",
    "    def run(self, speed):\n",
    "        return \"{} runs {}\".format(self.name, speed)\n",
    "```"
   ]
  },
  {
   "cell_type": "code",
   "execution_count": 39,
   "metadata": {},
   "outputs": [],
   "source": [
    "class Dog:\n",
    "\n",
    "    # Class attribute\n",
    "    species = 'mammal'\n",
    "\n",
    "    # Initializer / Instance attributes\n",
    "    def __init__(self, name, age, is_hungry):\n",
    "        self.name = name\n",
    "        self.age = age\n",
    "        self.is_hungry = True\n",
    "\n",
    "    def eat(self, is_hungry):\n",
    "        self.is_hungry = False\n",
    "\n",
    "    # instance method\n",
    "    def description(self):\n",
    "        return \"{} is {} years old\".format(self.name, self.age)\n",
    "\n",
    "    # instance method\n",
    "    def speak(self, sound):\n",
    "        return \"{} says {}\".format(self.name, sound)\n",
    "\n",
    "# Child class (inherits from Dog class)\n",
    "class RussellTerrier(Dog):\n",
    "    def run(self, speed):\n",
    "        return \"{} runs {}\".format(self.name, speed)\n",
    "\n",
    "# Child class (inherits from Dog class)\n",
    "class Bulldog(Dog):\n",
    "    def run(self, speed):\n",
    "        return \"{} runs {}\".format(self.name, speed)\n"
   ]
  },
  {
   "cell_type": "code",
   "execution_count": null,
   "metadata": {},
   "outputs": [],
   "source": []
  }
 ],
 "metadata": {
  "kernelspec": {
   "display_name": "Python 3 (ipykernel)",
   "language": "python",
   "name": "python3"
  },
  "language_info": {
   "codemirror_mode": {
    "name": "ipython",
    "version": 3
   },
   "file_extension": ".py",
   "mimetype": "text/x-python",
   "name": "python",
   "nbconvert_exporter": "python",
   "pygments_lexer": "ipython3",
   "version": "3.12.7"
  }
 },
 "nbformat": 4,
 "nbformat_minor": 4
}
